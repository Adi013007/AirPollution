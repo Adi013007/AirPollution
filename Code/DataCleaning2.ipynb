{
 "metadata": {
  "language_info": {
   "codemirror_mode": {
    "name": "ipython",
    "version": 3
   },
   "file_extension": ".py",
   "mimetype": "text/x-python",
   "name": "python",
   "nbconvert_exporter": "python",
   "pygments_lexer": "ipython3",
   "version": "3.9.4"
  },
  "orig_nbformat": 2,
  "kernelspec": {
   "name": "python394jvsc74a57bd020eddb88e84b890ceadbab4b6643a521e9e86e5ffa60a4c079065db218a25de9",
   "display_name": "Python 3.9.4 64-bit"
  }
 },
 "nbformat": 4,
 "nbformat_minor": 2,
 "cells": [
  {
   "cell_type": "code",
   "execution_count": 1,
   "metadata": {},
   "outputs": [],
   "source": [
    "import pandas as p"
   ]
  },
  {
   "cell_type": "code",
   "execution_count": 2,
   "metadata": {},
   "outputs": [],
   "source": [
    "station_hour = p.read_csv(\"station_hour(cleaned).csv\")\n",
    "station_day = p.read_csv(\"station_day(cleaned).csv\")\n",
    "city_hour = p.read_csv(\"city_hour(cleaned).csv\")\n",
    "city_day = p.read_csv(\"city_day(cleaned).csv\")"
   ]
  },
  {
   "cell_type": "code",
   "execution_count": 3,
   "metadata": {},
   "outputs": [],
   "source": [
    "#Modify month Column\n",
    "def func(month):\n",
    "    month1 = month.replace(\" \",\"\")\n",
    "    if month1==\"01.Jan\":\n",
    "        return \"January\"\n",
    "    if month1==\"02.Feb\":\n",
    "        return \"February\"\n",
    "    if month1==\"03.Mar\":\n",
    "        return \"March\"\n",
    "    if month1==\"04.Apr\":\n",
    "        return \"April\"\n",
    "    if month1==\"05.May\":\n",
    "        return \"May\"\n",
    "    if month1==\"06.Jun\":\n",
    "        return \"June\"\n",
    "    if month1==\"07.Jul\":\n",
    "        return \"July\"\n",
    "    if month1==\"08.Aug\":\n",
    "        return \"August\"\n",
    "    if month1==\"09.Sep\":\n",
    "        return \"September\"\n",
    "    if month1==\"10.Oct\":\n",
    "        return \"October\"\n",
    "    if month1==\"11.Nov\":\n",
    "        return \"November\"\n",
    "    if month1==\"12.Dec\":\n",
    "        return \"December\"\n",
    "    \n",
    "    \n",
    "    "
   ]
  },
  {
   "cell_type": "code",
   "execution_count": 4,
   "metadata": {},
   "outputs": [],
   "source": [
    "station_hour[\"Month\"] = station_hour[\"Month\"].map(func)"
   ]
  },
  {
   "cell_type": "code",
   "execution_count": 5,
   "metadata": {},
   "outputs": [],
   "source": [
    "station_day[\"Month\"] = station_day[\"Month\"].map(func)\n",
    "city_hour[\"Month\"] = city_hour[\"Month\"].map(func)\n",
    "city_day[\"Month\"] = city_day[\"Month\"].map(func)"
   ]
  },
  {
   "cell_type": "code",
   "execution_count": 6,
   "metadata": {},
   "outputs": [],
   "source": [
    "x = station_day[\"Season\"]"
   ]
  },
  {
   "cell_type": "code",
   "execution_count": 7,
   "metadata": {},
   "outputs": [],
   "source": [
    "x = list(x)"
   ]
  },
  {
   "cell_type": "code",
   "execution_count": 8,
   "metadata": {},
   "outputs": [],
   "source": [
    "x = set(x)"
   ]
  },
  {
   "cell_type": "code",
   "execution_count": 9,
   "metadata": {},
   "outputs": [
    {
     "output_type": "stream",
     "name": "stdout",
     "text": [
      "{'4. Post-Monsoon', '1. Winter', '3. Monsoon', '2. Summer'}\n"
     ]
    }
   ],
   "source": [
    "print(x)"
   ]
  },
  {
   "cell_type": "code",
   "execution_count": 10,
   "metadata": {},
   "outputs": [],
   "source": [
    "#modify Season column \n",
    "def func(season):\n",
    "    season1 = season.replace(\" \",\"\")\n",
    "    if(season1==\"3.Monsoon\"):\n",
    "        return \"Monsoon\"\n",
    "    if(season1==\"2.Summer\"):\n",
    "        return \"Summer\"\n",
    "    if(season1==\"4.Post-Monsoon\"):\n",
    "        return \"Post-Monsoon\"    \n",
    "    if(season1==\"1.Winter\"):\n",
    "         return \"Winter\""
   ]
  },
  {
   "cell_type": "code",
   "execution_count": 11,
   "metadata": {},
   "outputs": [],
   "source": [
    "station_hour[\"Season\"] = station_hour[\"Season\"].map(func)"
   ]
  },
  {
   "cell_type": "code",
   "execution_count": 12,
   "metadata": {},
   "outputs": [],
   "source": [
    "station_day[\"Season\"] = station_day[\"Season\"].map(func)\n",
    "city_hour[\"Season\"] = city_hour[\"Season\"].map(func)\n",
    "city_day[\"Season\"] = city_day[\"Season\"].map(func)"
   ]
  },
  {
   "cell_type": "code",
   "execution_count": 13,
   "metadata": {},
   "outputs": [],
   "source": [
    "station_hour.drop(['Region'],axis=1,inplace=True)"
   ]
  },
  {
   "cell_type": "code",
   "execution_count": 14,
   "metadata": {},
   "outputs": [],
   "source": [
    "station_day.drop(['Region'],axis=1,inplace=True)\n",
    "city_hour.drop(['Region'],axis=1,inplace=True)\n",
    "city_day.drop(['Region'],axis=1,inplace=True)"
   ]
  },
  {
   "cell_type": "code",
   "execution_count": 15,
   "metadata": {},
   "outputs": [],
   "source": [
    "station_hour.to_csv(\"station_hour(cleaned).csv\")"
   ]
  },
  {
   "cell_type": "code",
   "execution_count": 16,
   "metadata": {},
   "outputs": [],
   "source": [
    "station_day.to_csv(\"station_day(cleaned).csv\")\n",
    "city_hour.to_csv(\"city_hour(cleaned).csv\")\n",
    "city_day.to_csv(\"city_day(cleaned).csv\")"
   ]
  },
  {
   "cell_type": "code",
   "execution_count": null,
   "metadata": {},
   "outputs": [],
   "source": []
  }
 ]
}