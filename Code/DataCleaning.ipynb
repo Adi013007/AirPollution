{
 "metadata": {
  "language_info": {
   "codemirror_mode": {
    "name": "ipython",
    "version": 3
   },
   "file_extension": ".py",
   "mimetype": "text/x-python",
   "name": "python",
   "nbconvert_exporter": "python",
   "pygments_lexer": "ipython3",
   "version": "3.9.4"
  },
  "orig_nbformat": 2,
  "kernelspec": {
   "name": "python394jvsc74a57bd020eddb88e84b890ceadbab4b6643a521e9e86e5ffa60a4c079065db218a25de9",
   "display_name": "Python 3.9.4 64-bit"
  }
 },
 "nbformat": 4,
 "nbformat_minor": 2,
 "cells": [
  {
   "cell_type": "code",
   "execution_count": 1,
   "metadata": {},
   "outputs": [],
   "source": [
    "import pandas as p"
   ]
  },
  {
   "cell_type": "code",
   "execution_count": 2,
   "metadata": {},
   "outputs": [],
   "source": [
    "city_hour = p.read_csv(\"city_hour_transformed.csv\")"
   ]
  },
  {
   "cell_type": "code",
   "execution_count": 3,
   "metadata": {},
   "outputs": [],
   "source": [
    "city_day = p.read_csv(\"city_day_transformed.csv\")\n",
    "station_hour = p.read_csv(\"station_hour_transformed.csv\")\n",
    "station_day = p.read_csv(\"station_hour_transformed.csv\")"
   ]
  },
  {
   "cell_type": "code",
   "execution_count": 4,
   "metadata": {},
   "outputs": [],
   "source": [
    "#Researched Values\n",
    "aqi = 142\n",
    "s02 = 250\n",
    "no2 = 200\n",
    "pm10=300\n",
    "pm2_5 = 200\n",
    "o3 =100\n",
    "co = 150\n",
    "nh3 = 100\n",
    "benzene = 5"
   ]
  },
  {
   "cell_type": "code",
   "execution_count": 5,
   "metadata": {},
   "outputs": [],
   "source": [
    "import random \n",
    "no = random.randint(0,5)\n",
    "nox = random.randint(0,100)\n",
    "toluene = random.randint(0,20)\n",
    "xylene = random.randint(0,50)"
   ]
  },
  {
   "cell_type": "code",
   "execution_count": 6,
   "metadata": {},
   "outputs": [],
   "source": [
    "station_hour[\"PM2.5\"].fillna(pm2_5,inplace=True)\n",
    "station_hour[\"PM10\"].fillna(pm10,inplace=True)\n",
    "station_hour[\"NO\"].fillna(no,inplace=True)\n",
    "station_hour[\"NO2\"].fillna(no2,inplace=True)\n",
    "station_hour[\"NOx\"].fillna(nox,inplace=True)\n",
    "station_hour[\"NH3\"].fillna(nh3,inplace=True)\n",
    "station_hour[\"CO\"].fillna(co,inplace=True)\n",
    "station_hour[\"SO2\"].fillna(s02,inplace=True)\n",
    "station_hour[\"O3\"].fillna(o3,inplace=True)\n",
    "station_hour[\"Benzene\"].fillna(benzene,inplace=True)\n",
    "station_hour[\"Toluene\"].fillna(toluene,inplace=True)\n",
    "station_hour[\"Xylene\"].fillna(xylene,inplace=True)\n",
    "station_hour[\"AQI\"].fillna(aqi,inplace=True)"
   ]
  },
  {
   "cell_type": "code",
   "execution_count": 7,
   "metadata": {},
   "outputs": [],
   "source": [
    "station_day[\"PM2.5\"].fillna(pm2_5,inplace=True)\n",
    "station_day[\"PM10\"].fillna(pm10,inplace=True)\n",
    "station_day[\"NO\"].fillna(no,inplace=True)\n",
    "station_day[\"NO2\"].fillna(no2,inplace=True)\n",
    "station_day[\"NOx\"].fillna(nox,inplace=True)\n",
    "station_day[\"NH3\"].fillna(nh3,inplace=True)\n",
    "station_day[\"CO\"].fillna(co,inplace=True)\n",
    "station_day[\"SO2\"].fillna(s02,inplace=True)\n",
    "station_day[\"O3\"].fillna(o3,inplace=True)\n",
    "station_day[\"Benzene\"].fillna(benzene,inplace=True)\n",
    "station_day[\"Toluene\"].fillna(toluene,inplace=True)\n",
    "station_day[\"Xylene\"].fillna(xylene,inplace=True)\n",
    "station_day[\"AQI\"].fillna(aqi,inplace=True)"
   ]
  },
  {
   "cell_type": "code",
   "execution_count": 8,
   "metadata": {},
   "outputs": [],
   "source": [
    "city_hour[\"PM2.5\"].fillna(pm2_5,inplace=True)\n",
    "city_hour[\"PM10\"].fillna(pm10,inplace=True)\n",
    "city_hour[\"NO\"].fillna(no,inplace=True)\n",
    "city_hour[\"NO2\"].fillna(no2,inplace=True)\n",
    "city_hour[\"NOx\"].fillna(nox,inplace=True)\n",
    "city_hour[\"NH3\"].fillna(nh3,inplace=True)\n",
    "city_hour[\"CO\"].fillna(co,inplace=True)\n",
    "city_hour[\"SO2\"].fillna(s02,inplace=True)\n",
    "city_hour[\"O3\"].fillna(o3,inplace=True)\n",
    "city_hour[\"Benzene\"].fillna(benzene,inplace=True)\n",
    "city_hour[\"Toluene\"].fillna(toluene,inplace=True)\n",
    "city_hour[\"Xylene\"].fillna(xylene,inplace=True)\n",
    "city_hour[\"AQI\"].fillna(aqi,inplace=True)"
   ]
  },
  {
   "cell_type": "code",
   "execution_count": 9,
   "metadata": {},
   "outputs": [],
   "source": [
    "city_day[\"PM2.5\"].fillna(pm2_5,inplace=True)\n",
    "city_day[\"PM10\"].fillna(pm10,inplace=True)\n",
    "city_day[\"NO\"].fillna(no,inplace=True)\n",
    "city_day[\"NO2\"].fillna(no2,inplace=True)\n",
    "city_day[\"NOx\"].fillna(nox,inplace=True)\n",
    "city_day[\"NH3\"].fillna(nh3,inplace=True)\n",
    "city_day[\"CO\"].fillna(co,inplace=True)\n",
    "city_day[\"SO2\"].fillna(s02,inplace=True)\n",
    "city_day[\"O3\"].fillna(o3,inplace=True)\n",
    "city_day[\"Benzene\"].fillna(benzene,inplace=True)\n",
    "city_day[\"Toluene\"].fillna(toluene,inplace=True)\n",
    "city_day[\"Xylene\"].fillna(xylene,inplace=True)\n",
    "city_day[\"AQI\"].fillna(aqi,inplace=True)"
   ]
  },
  {
   "cell_type": "code",
   "execution_count": 10,
   "metadata": {},
   "outputs": [],
   "source": [
    "station_hour.drop(['StationName'],axis=1,inplace=True)"
   ]
  },
  {
   "cell_type": "code",
   "execution_count": 11,
   "metadata": {},
   "outputs": [],
   "source": [
    "station_hour.drop(['StationId'],axis = 1,inplace=True)"
   ]
  },
  {
   "cell_type": "code",
   "execution_count": 12,
   "metadata": {},
   "outputs": [],
   "source": [
    "station_hour.drop(['AQ_Acceptability'],axis=1,inplace=True)"
   ]
  },
  {
   "cell_type": "code",
   "execution_count": 13,
   "metadata": {},
   "outputs": [],
   "source": [
    "station_hour.drop(['AQI_Bucket'],axis=1,inplace=True)"
   ]
  },
  {
   "cell_type": "code",
   "execution_count": 14,
   "metadata": {},
   "outputs": [],
   "source": [
    "station_hour.drop(['Status'],axis=1,inplace=True)"
   ]
  },
  {
   "cell_type": "code",
   "execution_count": 15,
   "metadata": {},
   "outputs": [],
   "source": [
    "station_day.drop(['StationId','StationName','AQ_Acceptability','AQI_Bucket','Status'],axis=1,inplace=True)"
   ]
  },
  {
   "cell_type": "code",
   "execution_count": 16,
   "metadata": {},
   "outputs": [],
   "source": [
    "city_day.drop(['StationId','StationName','AQ_Acceptability','AQI_Bucket','Status'],axis=1,inplace=True)"
   ]
  },
  {
   "cell_type": "code",
   "execution_count": 17,
   "metadata": {},
   "outputs": [],
   "source": [
    "city_hour.drop(['StationId','StationName','AQ_Acceptability','AQI_Bucket','Status'],axis=1,inplace=True)"
   ]
  },
  {
   "cell_type": "code",
   "execution_count": 18,
   "metadata": {},
   "outputs": [],
   "source": [
    "station_hour.to_csv('station_hour(cleaned).csv')"
   ]
  },
  {
   "cell_type": "code",
   "execution_count": 19,
   "metadata": {},
   "outputs": [],
   "source": [
    "station_day.to_csv('station_day(cleaned).csv')\n",
    "city_hour.to_csv('city_hour(cleaned).csv')\n",
    "city_day.to_csv('city_day(cleaned).csv')"
   ]
  },
  {
   "cell_type": "code",
   "execution_count": null,
   "metadata": {},
   "outputs": [],
   "source": []
  }
 ]
}